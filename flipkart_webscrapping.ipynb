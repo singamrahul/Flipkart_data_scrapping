{
  "nbformat": 4,
  "nbformat_minor": 0,
  "metadata": {
    "colab": {
      "provenance": []
    },
    "kernelspec": {
      "name": "python3",
      "display_name": "Python 3"
    },
    "language_info": {
      "name": "python"
    }
  },
  "cells": [
    {
      "cell_type": "code",
      "execution_count": 1,
      "metadata": {
        "id": "DdGE9MBUTbfO"
      },
      "outputs": [],
      "source": [
        "import pandas as pd\n",
        "import requests\n",
        "from bs4 import BeautifulSoup"
      ]
    },
    {
      "cell_type": "code",
      "source": [
        "Product_names = []\n",
        "Prices = []\n",
        "Ratings = []"
      ],
      "metadata": {
        "id": "KBYiI3RVTkql"
      },
      "execution_count": 3,
      "outputs": []
    },
    {
      "cell_type": "code",
      "source": [
        "for i in range(2,12):\n",
        "  url = \"https://www.flipkart.com/search?q=mobiles&otracker=search&otracker1=search&marketplace=FLIPKART&as-show=on&as=off&p%5B%5D=facets.price_range.from%3D20000&p%5B%5D=facets.price_range.to%3DMax\"\n",
        "  r = requests.get(url)\n",
        "  soup = BeautifulSoup(r.text, 'lxml')\n",
        "\n",
        "  names = soup.find_all(\"div\",class_ = \"_4rR01T\")\n",
        "  for i in names:\n",
        "    name = i.text\n",
        "    Product_names.append(name)\n",
        "\n",
        "  prices = soup.find_all(\"div\",class_ = \"_30jeq3 _1_WHN1\")\n",
        "  for i in prices:\n",
        "    name = i.text\n",
        "    Prices.append(name)\n",
        "  \n",
        "  ratings = soup.find_all(\"div\",class_ = \"_3LWZlK\")\n",
        "  for i in ratings:\n",
        "    name = i.text\n",
        "    Ratings.append(name)\n",
        "\n",
        "DataFrame = pd.DataFrame({\"Product_names\" : Product_names,\"Prices\" : Prices,\"Rating\" : Ratings})\n",
        "DataFrame.to_csv(\"flipkart_mobile.csv\")\n",
        "    "
      ],
      "metadata": {
        "id": "KV08SjTWT37N"
      },
      "execution_count": 7,
      "outputs": []
    },
    {
      "cell_type": "code",
      "source": [],
      "metadata": {
        "id": "NDOcnHkjWMfe"
      },
      "execution_count": null,
      "outputs": []
    }
  ]
}